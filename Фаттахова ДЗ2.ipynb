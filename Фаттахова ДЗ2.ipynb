{
 "cells": [
  {
   "cell_type": "code",
   "execution_count": 1,
   "id": "6183f933",
   "metadata": {},
   "outputs": [],
   "source": [
    "import numpy as np\n",
    "import matplotlib.pyplot as plt"
   ]
  },
  {
   "cell_type": "code",
   "execution_count": 2,
   "id": "08e03dbf",
   "metadata": {},
   "outputs": [],
   "source": [
    "#Функция для создания выборки размера size из равномерного распределения с параметрами a,b\n",
    "def generate_data_uniform(a:int, b:int, size:int):\n",
    "    return np.random.uniform(a,b, size)"
   ]
  },
  {
   "cell_type": "code",
   "execution_count": 3,
   "id": "b09df3f6",
   "metadata": {},
   "outputs": [],
   "source": [
    "#Функция для матожидания случайной величины из равномерного распределения с параметрами a,b\n",
    "def variance(a:int, b:int):\n",
    "    return (b-a)**2/12.0"
   ]
  },
  {
   "cell_type": "code",
   "execution_count": 4,
   "id": "4261f6a8",
   "metadata": {},
   "outputs": [],
   "source": [
    "#Функция, вычисляющая значение выборочной дисперсии смещенной\n",
    "def sn_bias(data:list):\n",
    "    mean = sum(data)/len(data)\n",
    "    square_deviation = lambda x : (x - mean) ** 2 \n",
    "    return sum( map(square_deviation, data) ) / len(data)"
   ]
  },
  {
   "cell_type": "code",
   "execution_count": 5,
   "id": "e6d11e92",
   "metadata": {},
   "outputs": [],
   "source": [
    "#Функция, вычисляющая значение выборочной дисперсии несмещенной\n",
    "def sn_fixed(data:list):\n",
    "    mean = sum(data)/len(data)\n",
    "    square_deviation = lambda x : (x - mean) ** 2 \n",
    "    return sum( map(square_deviation, data) ) / (len(data)-1)"
   ]
  },
  {
   "cell_type": "code",
   "execution_count": 8,
   "id": "522969f9",
   "metadata": {},
   "outputs": [],
   "source": [
    "def experiment1(n:int, exper_count:int, eps = float):\n",
    "    a = 0.0\n",
    "    b = 10.0\n",
    "    true_var = variance(a, b)\n",
    "    \n",
    "    s_biased = []\n",
    "    s_fixed = []\n",
    "    for i in range(exper_count):\n",
    "        #Генерация выборки\n",
    "        X =  generate_data_uniform(a, b, n)\n",
    "        s_biased.append(sn_bias(X))\n",
    "        s_fixed.append(sn_fixed(X))\n",
    "    mean_s_biased = np.mean(np.array(s_biased))\n",
    "    mean_s_fixed = np.mean(np.array(s_fixed))\n",
    "    res= \"E(s_biased) при n= \"+str(n)+\" и повторе экспериментов \"+\\\n",
    "    str(exper_count)+ \" раз = \"+str(mean_s_biased) +\" , а дисперсия = \"+ str(true_var)\n",
    "    print(res)\n",
    "    if abs(np.mean(np.array(s_biased))-true_var)>eps:\n",
    "        print(\"Следовательно, оценка смещена\")\n",
    "          \n",
    "          \n",
    "    res= \"E(s_biased) при n= \"+str(n)+\" и повторе экспериментов \"+\\\n",
    "    str(exper_count)+ \" раз = \"+str(mean_s_fixed) +\" , а дисперсия = \"+ str(true_var)\n",
    "    print(res)\n",
    "    if abs(np.mean(np.array(mean_s_fixed))-true_var)<eps:\n",
    "        print(\"Следовательно, оценка не смещена\")\n",
    "    "
   ]
  },
  {
   "cell_type": "code",
   "execution_count": 9,
   "id": "9ac96127",
   "metadata": {},
   "outputs": [],
   "source": [
    "def experiment2(start_n:int, end_n:int, size:int, exper_count:int):\n",
    "    a = 0.0\n",
    "    b = 10.0\n",
    "    true_var = variance(a, b)\n",
    "    \n",
    "    s_biased_mean = []\n",
    "    s_fixed_mean= []\n",
    "    #Создание массива различных n(размер выборки) с переданными в функцию параметрами\n",
    "    N = np.linspace(start_n, end_n, num=size, dtype = int)\n",
    "    for n in N:\n",
    "        s_biased = []\n",
    "        s_fixed = []\n",
    "        for i in range(exper_count):\n",
    "            #Генерация выборки\n",
    "            X =  generate_data_uniform(a, b, n)\n",
    "            s_biased.append(sn_bias(X))\n",
    "            s_fixed.append(sn_fixed(X))\n",
    "        s_biased_mean.append(np.mean(np.array(s_biased)))\n",
    "        s_fixed_mean.append(np.mean(np.array(s_fixed)))\n",
    "        \n",
    "    return s_biased_mean, s_fixed_mean, true_var"
   ]
  },
  {
   "cell_type": "code",
   "execution_count": 16,
   "id": "f2d83b2e",
   "metadata": {},
   "outputs": [],
   "source": [
    "#Создание графика по вычисленным выше значениям\n",
    "def bias_of_estimation_behavior():\n",
    "    start_n =5\n",
    "    end_n=1000\n",
    "    size= int((end_n-start_n)/10)\n",
    "    s_biased, s_fixed, true_var = experiment2(start_n, end_n, size, 100)\n",
    "    n = np.linspace(start_n, end_n, num=size, dtype = int)\n",
    "    \n",
    "    fig, ax = plt.subplots() #fig, ax = plt.subplots(1,2) \n",
    "    ax.plot(n, s_biased)\n",
    "    ax.axhline(y=true_var, color='r', linestyle='-')\n",
    "#     ax[1].plot(n, s_fixed)\n",
    "#     ax[1].axhline(y=true_var, color='r', linestyle='-')\n",
    "\n",
    "#     ax.set(xlabel='n', ylabel='sup(|F(x)-Fn(x)|)',\n",
    "#        title='Graph of n and supremums')\n",
    "#     ax.grid()\n",
    "    plt.show()"
   ]
  },
  {
   "cell_type": "code",
   "execution_count": 17,
   "id": "98858ec0",
   "metadata": {},
   "outputs": [
    {
     "name": "stdout",
     "output_type": "stream",
     "text": [
      "E(s_biased) при n= 20 и повторе экспериментов 1000 раз = 7.953978749773851 , а дисперсия = 8.333333333333334\n",
      "Следовательно, оценка смещена\n",
      "E(s_biased) при n= 20 и повторе экспериментов 1000 раз = 8.372609210288266 , а дисперсия = 8.333333333333334\n",
      "Следовательно, оценка не смещена\n"
     ]
    }
   ],
   "source": [
    "experiment1(20, 1000, 0.2)"
   ]
  },
  {
   "cell_type": "code",
   "execution_count": 18,
   "id": "d637acb7",
   "metadata": {},
   "outputs": [
    {
     "data": {
      "image/png": "[encoded data removed]",
      "text/plain": [
       "<Figure size 640x480 with 1 Axes>"
      ]
     },
     "metadata": {},
     "output_type": "display_data"
    }
   ],
   "source": [
    "bias_of_estimation_behavior()"
   ]
  },
  {
   "cell_type": "code",
   "execution_count": null,
   "id": "e45e89c8",
   "metadata": {},
   "outputs": [],
   "source": []
  },
  {
   "cell_type": "code",
   "execution_count": null,
   "id": "7a5e0a5d",
   "metadata": {},
   "outputs": [],
   "source": []
  },
  {
   "cell_type": "code",
   "execution_count": null,
   "id": "02da5b60",
   "metadata": {},
   "outputs": [],
   "source": []
  },
  {
   "cell_type": "code",
   "execution_count": null,
   "id": "99c03d88",
   "metadata": {},
   "outputs": [],
   "source": []
  },
  {
   "cell_type": "code",
   "execution_count": null,
   "id": "46dd9408",
   "metadata": {},
   "outputs": [],
   "source": []
  }
 ],
 "metadata": {
  "kernelspec": {
   "display_name": "Python 3 (ipykernel)",
   "language": "python",
   "name": "python3"
  },
  "language_info": {
   "codemirror_mode": {
    "name": "ipython",
    "version": 3
   },
   "file_extension": ".py",
   "mimetype": "text/x-python",
   "name": "python",
   "nbconvert_exporter": "python",
   "pygments_lexer": "ipython3",
   "version": "3.10.6"
  }
 },
 "nbformat": 4,
 "nbformat_minor": 5
}
